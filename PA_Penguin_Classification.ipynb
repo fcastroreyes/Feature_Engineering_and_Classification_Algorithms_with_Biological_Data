{
 "cells": [
  {
   "cell_type": "raw",
   "metadata": {},
   "source": [
    "---\n",
    "format:\n",
    "  html:\n",
    "    page-layout: full\n",
    "    code fold: false\n",
    "    toc: true\n",
    "    toc_float: true\n",
    "    toc-title: Table Of Contents\n",
    "    toc-location: left\n",
    "    theme: cosmo\n",
    "    self-contained: true\n",
    "---"
   ]
  },
  {
   "cell_type": "code",
   "execution_count": 1,
   "metadata": {
    "id": "n9dyKhaFEVjg"
   },
   "outputs": [],
   "source": [
    "import pandas as pd\n",
    "import numpy as np\n",
    "from plotnine import *\n",
    "\n",
    "from sklearn.pipeline import Pipeline\n",
    "from sklearn.neighbors import KNeighborsRegressor\n",
    "from sklearn.tree import DecisionTreeRegressor\n",
    "from sklearn.linear_model import LinearRegression\n",
    "\n",
    "from sklearn.compose import make_column_selector, ColumnTransformer\n",
    "from sklearn.preprocessing import StandardScaler, OneHotEncoder, PolynomialFeatures\n",
    "from sklearn.model_selection import train_test_split, cross_val_score\n",
    "from sklearn.metrics import r2_score, mean_squared_error\n",
    "from sklearn.model_selection import GridSearchCV\n",
    "\n",
    "import pandas as pd\n",
    "from sklearn.pipeline import Pipeline\n",
    "from sklearn.neighbors import KNeighborsClassifier\n",
    "from sklearn.tree import DecisionTreeClassifier\n",
    "from sklearn.linear_model import LogisticRegression\n",
    "from sklearn.metrics import accuracy_score, confusion_matrix, classification_report\n",
    "from sklearn.metrics import confusion_matrix, accuracy_score, precision_score, recall_score, f1_score, roc_auc_score"
   ]
  },
  {
   "cell_type": "markdown",
   "metadata": {
    "id": "TxbDFsJARAMD"
   },
   "source": [
    "# Palmer Penguins Modeling\n",
    "\n",
    "Import the Palmer Penguins dataset and print out the first few rows.\n",
    "\n",
    "Suppose we want to predict `species` using the other variables in the dataset.\n",
    "\n",
    "**Dummify** all variables that require this."
   ]
  },
  {
   "cell_type": "code",
   "execution_count": 2,
   "metadata": {
    "id": "QV2uolyOQ65C"
   },
   "outputs": [],
   "source": [
    "#!pip install palmerpenguins"
   ]
  },
  {
   "cell_type": "code",
   "execution_count": 3,
   "metadata": {
    "colab": {
     "base_uri": "https://localhost:8080/",
     "height": 206
    },
    "id": "kYOwaj-pEdvI",
    "outputId": "ad38fc5d-b3d6-4e6c-c83a-8c7495503f61"
   },
   "outputs": [
    {
     "data": {
      "text/html": [
       "<div>\n",
       "<style scoped>\n",
       "    .dataframe tbody tr th:only-of-type {\n",
       "        vertical-align: middle;\n",
       "    }\n",
       "\n",
       "    .dataframe tbody tr th {\n",
       "        vertical-align: top;\n",
       "    }\n",
       "\n",
       "    .dataframe thead th {\n",
       "        text-align: right;\n",
       "    }\n",
       "</style>\n",
       "<table border=\"1\" class=\"dataframe\">\n",
       "  <thead>\n",
       "    <tr style=\"text-align: right;\">\n",
       "      <th></th>\n",
       "      <th>species</th>\n",
       "      <th>island</th>\n",
       "      <th>bill_length_mm</th>\n",
       "      <th>bill_depth_mm</th>\n",
       "      <th>flipper_length_mm</th>\n",
       "      <th>body_mass_g</th>\n",
       "      <th>sex</th>\n",
       "      <th>year</th>\n",
       "    </tr>\n",
       "  </thead>\n",
       "  <tbody>\n",
       "    <tr>\n",
       "      <th>0</th>\n",
       "      <td>Adelie</td>\n",
       "      <td>Torgersen</td>\n",
       "      <td>39.1</td>\n",
       "      <td>18.7</td>\n",
       "      <td>181.0</td>\n",
       "      <td>3750.0</td>\n",
       "      <td>male</td>\n",
       "      <td>2007</td>\n",
       "    </tr>\n",
       "    <tr>\n",
       "      <th>1</th>\n",
       "      <td>Adelie</td>\n",
       "      <td>Torgersen</td>\n",
       "      <td>39.5</td>\n",
       "      <td>17.4</td>\n",
       "      <td>186.0</td>\n",
       "      <td>3800.0</td>\n",
       "      <td>female</td>\n",
       "      <td>2007</td>\n",
       "    </tr>\n",
       "    <tr>\n",
       "      <th>2</th>\n",
       "      <td>Adelie</td>\n",
       "      <td>Torgersen</td>\n",
       "      <td>40.3</td>\n",
       "      <td>18.0</td>\n",
       "      <td>195.0</td>\n",
       "      <td>3250.0</td>\n",
       "      <td>female</td>\n",
       "      <td>2007</td>\n",
       "    </tr>\n",
       "    <tr>\n",
       "      <th>4</th>\n",
       "      <td>Adelie</td>\n",
       "      <td>Torgersen</td>\n",
       "      <td>36.7</td>\n",
       "      <td>19.3</td>\n",
       "      <td>193.0</td>\n",
       "      <td>3450.0</td>\n",
       "      <td>female</td>\n",
       "      <td>2007</td>\n",
       "    </tr>\n",
       "    <tr>\n",
       "      <th>5</th>\n",
       "      <td>Adelie</td>\n",
       "      <td>Torgersen</td>\n",
       "      <td>39.3</td>\n",
       "      <td>20.6</td>\n",
       "      <td>190.0</td>\n",
       "      <td>3650.0</td>\n",
       "      <td>male</td>\n",
       "      <td>2007</td>\n",
       "    </tr>\n",
       "  </tbody>\n",
       "</table>\n",
       "</div>"
      ],
      "text/plain": [
       "  species     island  bill_length_mm  bill_depth_mm  flipper_length_mm  \\\n",
       "0  Adelie  Torgersen            39.1           18.7              181.0   \n",
       "1  Adelie  Torgersen            39.5           17.4              186.0   \n",
       "2  Adelie  Torgersen            40.3           18.0              195.0   \n",
       "4  Adelie  Torgersen            36.7           19.3              193.0   \n",
       "5  Adelie  Torgersen            39.3           20.6              190.0   \n",
       "\n",
       "   body_mass_g     sex  year  \n",
       "0       3750.0    male  2007  \n",
       "1       3800.0  female  2007  \n",
       "2       3250.0  female  2007  \n",
       "4       3450.0  female  2007  \n",
       "5       3650.0    male  2007  "
      ]
     },
     "execution_count": 3,
     "metadata": {},
     "output_type": "execute_result"
    }
   ],
   "source": [
    "from palmerpenguins import load_penguins\n",
    "penguins = load_penguins()\n",
    "penguins = penguins.dropna()\n",
    "penguins.head()"
   ]
  },
  {
   "cell_type": "markdown",
   "metadata": {
    "id": "HecNBVAnRHod"
   },
   "source": [
    "Let's use the other variables to predict `species`. Prepare your data and fit the following models on the entire dataset:\n",
    "\n",
    "* Two kNN models (for different values of K)\n",
    "* Two decision tree models (for different complexities of trees)\n",
    "\n",
    "Compute the following, for each of your models, on test data. Keep in mind that you may need to stratify your creation of the training and test data.\n",
    "\n",
    "* Confusion matrix\n",
    "* Overall Accuracy\n",
    "* Precision, Recall, AUC, and F1-score for each species\n",
    "\n",
    "Create one ROC plot for the species of your choice."
   ]
  },
  {
   "cell_type": "markdown",
   "metadata": {
    "id": "LkJbh32eEoYA"
   },
   "source": [
    "# Let's use the other variables to predict `species`. Prepare your data and fit the following models on the entire dataset:"
   ]
  },
  {
   "cell_type": "code",
   "execution_count": 4,
   "metadata": {
    "id": "nETSRlBGOznx"
   },
   "outputs": [],
   "source": [
    "#creating the target and the predictor variables\n",
    "X= penguins.drop(['species'], axis=1)\n",
    "y= penguins['species']\n",
    "\n",
    "#creating the splits\n",
    "X_train, X_test, y_train, y_test = train_test_split(X, y, test_size=0.2, random_state = 42)"
   ]
  },
  {
   "cell_type": "markdown",
   "metadata": {
    "id": "UX0vhp1GEoaQ"
   },
   "source": [
    "## Two kNN models (for different values of K)"
   ]
  },
  {
   "cell_type": "markdown",
   "metadata": {
    "id": "aW5TB0HmLrCP"
   },
   "source": [
    "## kNN , K=5"
   ]
  },
  {
   "cell_type": "code",
   "execution_count": 5,
   "metadata": {
    "id": "5AGiHOwCJElN"
   },
   "outputs": [],
   "source": [
    "#Preprocessor as a column transformer that dumifies, standardizes.\n",
    "ct = ColumnTransformer(\n",
    "    [\n",
    "      (\"dummify\", OneHotEncoder(), [\"island\",\"sex\"]),\n",
    "      (\"standardize\", StandardScaler(), [\"bill_length_mm\", \"flipper_length_mm\", \"body_mass_g\"])\n",
    "    ],\n",
    "    remainder = \"drop\"\n",
    "  )\n",
    "\n",
    "#Model Specification\n",
    "knn = KNeighborsClassifier(n_neighbors=5)\n",
    "\n",
    "#pipeline Creation\n",
    "model_1_pipeline = Pipeline(\n",
    "    [(\"preprocessing\", ct),\n",
    "    (\"linear_regression\", knn)]\n",
    "  )\n",
    "\n",
    "#fitting the model on test set\n",
    "model_1 = model_1_pipeline.fit(X_train, y_train)\n",
    "\n",
    "#predictions for the test data\n",
    "model_1_test_pred = model_1.predict(X_test)"
   ]
  },
  {
   "cell_type": "code",
   "execution_count": 6,
   "metadata": {
    "colab": {
     "base_uri": "https://localhost:8080/"
    },
    "id": "TXmLYwccYlq4",
    "outputId": "58a826f3-ceec-412b-ff43-08f8ada8886e"
   },
   "outputs": [
    {
     "name": "stdout",
     "output_type": "stream",
     "text": [
      "Metrics for Model_1 :\n",
      "\n",
      "Confusion Matrix for Model_1 : \n",
      "\n",
      "           Adelie  Gentoo  Chinstrap\n",
      "Adelie         31       0          0\n",
      "Gentoo          0      18          0\n",
      "Chinstrap       0       0         18\n",
      "\n",
      "AUC Score Model_1 (One-vs-Rest): \n",
      " 1.0 \n",
      "\n",
      "              precision  recall  f1-score  support\n",
      "Adelie              1.0     1.0       1.0     31.0\n",
      "Chinstrap           1.0     1.0       1.0     18.0\n",
      "Gentoo              1.0     1.0       1.0     18.0\n",
      "accuracy            1.0     1.0       1.0      1.0\n",
      "macro avg           1.0     1.0       1.0     67.0\n",
      "weighted avg        1.0     1.0       1.0     67.0\n"
     ]
    }
   ],
   "source": [
    "# Metrics for Model 1\n",
    "print(\"Metrics for Model_1 :\\n\")\n",
    "\n",
    "# Confusion matrix\n",
    "uni_classes = y.unique() #getting the unique classes in the Y variale\n",
    "\n",
    "conf_matrix_test = confusion_matrix(y_test, model_1_test_pred) # making the matrix\n",
    "\n",
    "class_names = uni_classes.tolist() # Putting the classes to a list\n",
    "\n",
    "conf_matrix_df = pd.DataFrame(conf_matrix_test, index=class_names, columns=class_names) # Display the confusion matrix with class labels\n",
    "print(\"Confusion Matrix for Model_1 : \\n\")\n",
    "print(f\"{conf_matrix_df}\\n\")\n",
    "\n",
    "# AUC calculation\n",
    "y_pred_prob = model_1.predict_proba(X_test) # Predict probabilities\n",
    "\n",
    "auc_score_model_1 = roc_auc_score(y_test, y_pred_prob, multi_class='ovr') # Calculate AUC using One-vs-Rest approach\n",
    "print(f\"AUC Score Model_1 (One-vs-Rest): \\n {auc_score_model_1} \\n\")\n",
    "\n",
    "# Classification Report\n",
    "recall_scores = classification_report(y_test, model_1_test_pred, output_dict=True) # Classification Report\n",
    "recall_scores = pd.DataFrame(recall_scores).transpose()\n",
    "print(recall_scores)"
   ]
  },
  {
   "cell_type": "markdown",
   "metadata": {
    "id": "yZDgjB5cLxME"
   },
   "source": [
    "## kNN , K=50"
   ]
  },
  {
   "cell_type": "code",
   "execution_count": 7,
   "metadata": {
    "id": "X4hegSw5Lw0C"
   },
   "outputs": [],
   "source": [
    "#Model Specification\n",
    "knn = KNeighborsClassifier(n_neighbors=50)\n",
    "\n",
    "#pipeline Creation\n",
    "model_2_pipeline = Pipeline(\n",
    "    [(\"preprocessing\", ct),\n",
    "    (\"linear_regression\", knn)]\n",
    "  )\n",
    "\n",
    "#fitting the model on test set\n",
    "model_2 = model_2_pipeline.fit(X_train, y_train)\n",
    "\n",
    "#predictions for the test data\n",
    "model_2_test_pred = model_2.predict(X_test)"
   ]
  },
  {
   "cell_type": "code",
   "execution_count": 8,
   "metadata": {
    "colab": {
     "base_uri": "https://localhost:8080/"
    },
    "id": "XBzTpjU7dABJ",
    "outputId": "a8341a99-aba9-4d8a-fc03-9e50c279c5d3"
   },
   "outputs": [
    {
     "name": "stdout",
     "output_type": "stream",
     "text": [
      "Metrics for Model_2 :\n",
      "\n",
      "Confusion Matrix for Model_2 : \n",
      "\n",
      "           Adelie  Gentoo  Chinstrap\n",
      "Adelie         31       0          0\n",
      "Gentoo          2      16          0\n",
      "Chinstrap       0       0         18\n",
      "\n",
      "AUC Score Model_2 (One-vs-Rest): \n",
      " 1.0 \n",
      "\n",
      "              precision    recall  f1-score    support\n",
      "Adelie         0.939394  1.000000  0.968750  31.000000\n",
      "Chinstrap      1.000000  0.888889  0.941176  18.000000\n",
      "Gentoo         1.000000  1.000000  1.000000  18.000000\n",
      "accuracy       0.970149  0.970149  0.970149   0.970149\n",
      "macro avg      0.979798  0.962963  0.969975  67.000000\n",
      "weighted avg   0.971958  0.970149  0.969738  67.000000\n"
     ]
    }
   ],
   "source": [
    "# Metrics for Model 2\n",
    "print(\"Metrics for Model_2 :\\n\")\n",
    "\n",
    "# Confusion matrix\n",
    "uni_classes = y.unique() #getting the unique classes in the Y variale\n",
    "\n",
    "conf_matrix_test = confusion_matrix(y_test, model_2_test_pred) # making the matrix\n",
    "\n",
    "class_names = uni_classes.tolist() # Putting the classes to a list\n",
    "\n",
    "conf_matrix_df = pd.DataFrame(conf_matrix_test, index=class_names, columns=class_names) # Display the confusion matrix with class labels\n",
    "print(\"Confusion Matrix for Model_2 : \\n\")\n",
    "print(f\"{conf_matrix_df}\\n\")\n",
    "\n",
    "# AUC calculation\n",
    "y_pred_prob = model_2.predict_proba(X_test) # Predict probabilities\n",
    "\n",
    "auc_score_model_2 = roc_auc_score(y_test, y_pred_prob, multi_class='ovr') # Calculate AUC using One-vs-Rest approach\n",
    "print(f\"AUC Score Model_2 (One-vs-Rest): \\n {auc_score_model_2} \\n\")\n",
    "\n",
    "# Classification Report\n",
    "recall_scores = classification_report(y_test, model_2_test_pred, output_dict=True) # Classification Report\n",
    "recall_scores = pd.DataFrame(recall_scores).transpose()\n",
    "print(recall_scores)"
   ]
  },
  {
   "cell_type": "markdown",
   "metadata": {
    "id": "FTkZ_OPAEoc3"
   },
   "source": [
    "## Two decision tree models (for different complexities of trees)\n"
   ]
  },
  {
   "cell_type": "markdown",
   "metadata": {
    "id": "rsycCx1zEof9"
   },
   "source": [
    "## Decision Tree, Complexity = Max_depth = 4"
   ]
  },
  {
   "cell_type": "code",
   "execution_count": 9,
   "metadata": {
    "id": "1z4jQtzoOWJR"
   },
   "outputs": [],
   "source": [
    "#Model Specification\n",
    "des = DecisionTreeClassifier(max_depth=4)\n",
    "\n",
    "#pipeline Creation\n",
    "model_3_pipeline = Pipeline(\n",
    "    [(\"preprocessing\", ct),\n",
    "    (\"linear_regression\", des)]\n",
    "  )\n",
    "\n",
    "#fitting the model on test set\n",
    "model_3 = model_3_pipeline.fit(X_train, y_train)\n",
    "\n",
    "#predictions for the test data\n",
    "model_3_test_pred = model_3.predict(X_test)"
   ]
  },
  {
   "cell_type": "code",
   "execution_count": 10,
   "metadata": {
    "colab": {
     "base_uri": "https://localhost:8080/"
    },
    "id": "n-DLHX1jjdqf",
    "outputId": "1f908422-7bfe-4215-9934-a4785820611f"
   },
   "outputs": [
    {
     "name": "stdout",
     "output_type": "stream",
     "text": [
      "Metrics for Model_3 :\n",
      "\n",
      "Confusion Matrix for Model_3 : \n",
      "\n",
      "           Adelie  Gentoo  Chinstrap\n",
      "Adelie         31       0          0\n",
      "Gentoo          0      18          0\n",
      "Chinstrap       0       0         18\n",
      "\n",
      "AUC Score Model_3 (One-vs-Rest): \n",
      " 1.0 \n",
      "\n",
      "              precision  recall  f1-score  support\n",
      "Adelie              1.0     1.0       1.0     31.0\n",
      "Chinstrap           1.0     1.0       1.0     18.0\n",
      "Gentoo              1.0     1.0       1.0     18.0\n",
      "accuracy            1.0     1.0       1.0      1.0\n",
      "macro avg           1.0     1.0       1.0     67.0\n",
      "weighted avg        1.0     1.0       1.0     67.0\n"
     ]
    }
   ],
   "source": [
    "# Metrics for Model 3\n",
    "print(\"Metrics for Model_3 :\\n\")\n",
    "\n",
    "# Confusion matrix\n",
    "uni_classes = y.unique() #getting the unique classes in the Y variale\n",
    "\n",
    "conf_matrix_test = confusion_matrix(y_test, model_3_test_pred) # making the matrix\n",
    "\n",
    "class_names = uni_classes.tolist() # Putting the classes to a list\n",
    "\n",
    "conf_matrix_df = pd.DataFrame(conf_matrix_test, index=class_names, columns=class_names) # Display the confusion matrix with class labels\n",
    "print(\"Confusion Matrix for Model_3 : \\n\")\n",
    "print(f\"{conf_matrix_df}\\n\")\n",
    "\n",
    "# AUC calculation\n",
    "y_pred_prob = model_3.predict_proba(X_test) # Predict probabilities\n",
    "\n",
    "auc_score_model_3 = roc_auc_score(y_test, y_pred_prob, multi_class='ovr') # Calculate AUC using One-vs-Rest approach\n",
    "print(f\"AUC Score Model_3 (One-vs-Rest): \\n {auc_score_model_3} \\n\")\n",
    "\n",
    "# Classification Report\n",
    "recall_scores = classification_report(y_test, model_3_test_pred, output_dict=True) # Classification Report\n",
    "recall_scores = pd.DataFrame(recall_scores).transpose()\n",
    "print(recall_scores)"
   ]
  },
  {
   "cell_type": "markdown",
   "metadata": {
    "id": "ZGm5DqdaEoiH"
   },
   "source": [
    "## Decision Tree, Complexity = Max_depth = 12"
   ]
  },
  {
   "cell_type": "code",
   "execution_count": 11,
   "metadata": {
    "id": "YHqngv4NPsmG"
   },
   "outputs": [],
   "source": [
    "#Model Specification\n",
    "des = DecisionTreeClassifier(max_depth=12)\n",
    "\n",
    "#pipeline Creation\n",
    "model_4_pipeline = Pipeline(\n",
    "    [(\"preprocessing\", ct),\n",
    "    (\"linear_regression\", des)]\n",
    "  )\n",
    "\n",
    "#fitting the model on test set\n",
    "model_4 = model_4_pipeline.fit(X_train, y_train)\n",
    "\n",
    "#predictions for the test data\n",
    "model_4_test_pred = model_4.predict(X_test)"
   ]
  },
  {
   "cell_type": "code",
   "execution_count": 12,
   "metadata": {
    "colab": {
     "base_uri": "https://localhost:8080/"
    },
    "id": "FEas16WsjjTl",
    "outputId": "c8fc2e18-6f5d-4844-f38d-f93f775bba74"
   },
   "outputs": [
    {
     "name": "stdout",
     "output_type": "stream",
     "text": [
      "Metrics for Model_4 :\n",
      "\n",
      "Confusion Matrix for Model_4 : \n",
      "\n",
      "           Adelie  Gentoo  Chinstrap\n",
      "Adelie         30       1          0\n",
      "Gentoo          0      18          0\n",
      "Chinstrap       0       0         18\n",
      "\n",
      "AUC Score Model_4 (One-vs-Rest): \n",
      " 0.9912222953697608 \n",
      "\n",
      "              precision    recall  f1-score    support\n",
      "Adelie         1.000000  0.967742  0.983607  31.000000\n",
      "Chinstrap      0.947368  1.000000  0.972973  18.000000\n",
      "Gentoo         1.000000  1.000000  1.000000  18.000000\n",
      "accuracy       0.985075  0.985075  0.985075   0.985075\n",
      "macro avg      0.982456  0.989247  0.985527  67.000000\n",
      "weighted avg   0.985860  0.985075  0.985154  67.000000\n"
     ]
    }
   ],
   "source": [
    "# Metrics for Model 4\n",
    "print(\"Metrics for Model_4 :\\n\")\n",
    "\n",
    "# Confusion matrix\n",
    "uni_classes = y.unique() #getting the unique classes in the Y variale\n",
    "\n",
    "conf_matrix_test = confusion_matrix(y_test, model_4_test_pred) # making the matrix\n",
    "\n",
    "class_names = uni_classes.tolist() # Putting the classes to a list\n",
    "\n",
    "conf_matrix_df = pd.DataFrame(conf_matrix_test, index=class_names, columns=class_names) # Display the confusion matrix with class labels\n",
    "print(\"Confusion Matrix for Model_4 : \\n\")\n",
    "print(f\"{conf_matrix_df}\\n\")\n",
    "\n",
    "# AUC calculation\n",
    "y_pred_prob = model_4.predict_proba(X_test) # Predict probabilities\n",
    "\n",
    "auc_score_model_4 = roc_auc_score(y_test, y_pred_prob, multi_class='ovr') # Calculate AUC using One-vs-Rest approach\n",
    "print(f\"AUC Score Model_4 (One-vs-Rest): \\n {auc_score_model_4} \\n\")\n",
    "\n",
    "# Classification Report\n",
    "recall_scores = classification_report(y_test, model_4_test_pred, output_dict=True) # Classification Report\n",
    "recall_scores = pd.DataFrame(recall_scores).transpose()\n",
    "print(recall_scores)"
   ]
  },
  {
   "cell_type": "markdown",
   "metadata": {
    "id": "OGMhHCR9EonV"
   },
   "source": [
    "# AUC PLOT"
   ]
  },
  {
   "cell_type": "code",
   "execution_count": 14,
   "metadata": {
    "colab": {
     "base_uri": "https://localhost:8080/",
     "height": 515
    },
    "id": "oFjQtpPHnKSr",
    "outputId": "ae566a7f-f955-4398-d7f6-14f96c249063"
   },
   "outputs": [
    {
     "data": {
      "image/png": "[encoded data removed]",
      "text/plain": [
       "<Figure size 640x480 with 1 Axes>"
      ]
     },
     "metadata": {
      "image/png": {
       "height": 480,
       "width": 640
      },
      "needs_background": "light"
     },
     "output_type": "display_data"
    },
    {
     "data": {
      "text/plain": [
       "<Figure Size: (640 x 480)>"
      ]
     },
     "execution_count": 14,
     "metadata": {},
     "output_type": "execute_result"
    }
   ],
   "source": [
    "from sklearn.preprocessing import label_binarize\n",
    "from sklearn.metrics import roc_curve\n",
    "\n",
    "class_names = ['Adelie','Chinstrap', 'Gentoo']\n",
    "# Binarize y_test for 'Gentoo' class\n",
    "y_test_binarized_gentoo = label_binarize(y_test, classes=class_names)[:, class_names.index('Gentoo')]\n",
    "\n",
    "# Predict probabilities for the 'Gentoo' class\n",
    "y_test_pred_proba_gentoo = model_2.predict_proba(X_test)[:, class_names.index('Gentoo')]\n",
    "\n",
    "\n",
    "# Calculate ROC curve metrics for 'Gentoo' class\n",
    "fpr_gentoo, tpr_gentoo, thresholds_gentoo = roc_curve(y_test_binarized_gentoo, y_test_pred_proba_gentoo)\n",
    "\n",
    "# Convert to DataFrame for plotting\n",
    "roc_data_gentoo = pd.DataFrame({\n",
    "    'False Positive Rate': fpr_gentoo,\n",
    "    'True Positive Rate': tpr_gentoo\n",
    "})\n",
    "\n",
    "# Create ROC plot using plotnine\n",
    "roc_plot_gentoo = (\n",
    "    ggplot(roc_data_gentoo, aes(x='False Positive Rate', y='True Positive Rate'))\n",
    "    + geom_line(color=\"red\")\n",
    "    + geom_abline(linetype='dashed')\n",
    "    + labs(title='ROC Curve for Gentoo (kNN, k=5)', x='False Positive Rate', y='True Positive Rate')\n",
    "    + theme_minimal()\n",
    ")\n",
    "\n",
    "roc_plot_gentoo"
   ]
  }
 ],
 "metadata": {
  "colab": {
   "provenance": []
  },
  "kernelspec": {
   "display_name": "Python 3 (ipykernel)",
   "language": "python",
   "name": "python3"
  },
  "language_info": {
   "codemirror_mode": {
    "name": "ipython",
    "version": 3
   },
   "file_extension": ".py",
   "mimetype": "text/x-python",
   "name": "python",
   "nbconvert_exporter": "python",
   "pygments_lexer": "ipython3",
   "version": "3.11.4"
  }
 },
 "nbformat": 4,
 "nbformat_minor": 1
}
